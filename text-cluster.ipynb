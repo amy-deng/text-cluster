{
 "cells": [
  {
   "cell_type": "code",
   "execution_count": 50,
   "metadata": {},
   "outputs": [],
   "source": [
    "from sklearn.feature_extraction.text import TfidfVectorizer\n",
    "from sklearn.cluster import KMeans"
   ]
  },
  {
   "cell_type": "code",
   "execution_count": 52,
   "metadata": {},
   "outputs": [
    {
     "name": "stdout",
     "output_type": "stream",
     "text": [
      "true classes \t ['business', 'sport', 'science']\n"
     ]
    }
   ],
   "source": [
    "documents = [\"Five other creditors who pushed for the toy seller's liquidation instead of reorganization so far have also not contributed to the fund\",\n",
    "       \"Five other creditors who pushed for the toy seller's liquidation instead of reorganization so far have also not contributed to the fund\",\n",
    "       \"Massachusetts became the first state on the East Coast Tuesday to allow recreational marijuana sales, meaning tens of millions of adult consumers\",\n",
    "       \"The Yankees acquired left-handed pitcher James Paxton from the Seattle Mariners on Monday evening for a package of three prospects.\",\n",
    "       \"analysts and experts who told Houston Rockets forward Gary Clark he wasn't good enough to play in the NBA, turkey won't be on the menu\",\n",
    "       \"Superstars wield a lot of power in the NBA. Their presence can force a franchise to go all in to win immediately\",\n",
    "       \"NASA is working on a proposal that would allow it to sell seats to tourists that want to travel into space, the agency detailed in a recent report\",\n",
    "       \"Yes, astronomers suggest that it’s very likely that a “dark matter hurricane” will slam into the Earth as it speeds through the Milky Way\",\n",
    "       \"According to a recent paper, the Earth is caught directly in the crosshairs of a cosmic hurricane.\"\n",
    "       ]\n",
    "\n",
    "true_classes = ['business','sport','science']\n",
    "\n",
    "print('true classes \\t',true_classes)\n"
   ]
  },
  {
   "cell_type": "code",
   "execution_count": 48,
   "metadata": {},
   "outputs": [
    {
     "data": {
      "text/plain": [
       "KMeans(algorithm='auto', copy_x=True, init='k-means++', max_iter=100,\n",
       "    n_clusters=3, n_init=1, n_jobs=1, precompute_distances='auto',\n",
       "    random_state=None, tol=0.0001, verbose=0)"
      ]
     },
     "execution_count": 48,
     "metadata": {},
     "output_type": "execute_result"
    }
   ],
   "source": [
    "vectorizer = TfidfVectorizer(stop_words='english')\n",
    "X = vectorizer.fit_transform(documents)\n",
    "true_k = 3\n",
    "model = KMeans(n_clusters=true_k, init='k-means++', max_iter=100, n_init=1)\n",
    "model.fit(X)"
   ]
  },
  {
   "cell_type": "code",
   "execution_count": 54,
   "metadata": {},
   "outputs": [
    {
     "name": "stdout",
     "output_type": "stream",
     "text": [
      "Top 5 terms per cluster:\n",
      "-----------\n",
      "Cluster 0:\n",
      " instead\n",
      " seller\n",
      " contributed\n",
      " creditors\n",
      " reorganization\n",
      "-----------\n",
      "Cluster 1:\n",
      " recent\n",
      " allow\n",
      " caught\n",
      " paper\n",
      " directly\n",
      "-----------\n",
      "Cluster 2:\n",
      " nba\n",
      " superstars\n",
      " force\n",
      " franchise\n",
      " win\n",
      "-----------\n",
      "\n",
      "\n",
      "Prediction\n",
      "I love NBA\t [2]\n",
      "the hurricane is coming\t [1]\n"
     ]
    }
   ],
   "source": [
    "print(\"Top 5 terms per cluster:\")\n",
    "order_centroids = model.cluster_centers_.argsort()[:, ::-1]\n",
    "terms = vectorizer.get_feature_names()\n",
    "print('-----------')\n",
    "for i in range(true_k):\n",
    "    print(\"Cluster %d:\" % i),\n",
    "    for ind in order_centroids[i, :5]:\n",
    "        print(' %s' % terms[ind]),\n",
    "    print('-----------')\n",
    "\n",
    "print(\"\\n\")\n",
    "print(\"Prediction\")\n",
    "\n",
    "Y = vectorizer.transform([\"I love NBA\"])\n",
    "prediction = model.predict(Y)\n",
    "print(\"I love NBA\\t\",prediction)\n",
    "\n",
    "Y = vectorizer.transform(['the hurricane is coming'])\n",
    "prediction = model.predict(Y)\n",
    "print('the hurricane is coming\\t',prediction)"
   ]
  },
  {
   "cell_type": "code",
   "execution_count": null,
   "metadata": {},
   "outputs": [],
   "source": []
  },
  {
   "cell_type": "code",
   "execution_count": null,
   "metadata": {},
   "outputs": [],
   "source": []
  }
 ],
 "metadata": {
  "kernelspec": {
   "display_name": "Python 2",
   "language": "python",
   "name": "python2"
  },
  "language_info": {
   "codemirror_mode": {
    "name": "ipython",
    "version": 2
   },
   "file_extension": ".py",
   "mimetype": "text/x-python",
   "name": "python",
   "nbconvert_exporter": "python",
   "pygments_lexer": "ipython2",
   "version": "2.7.15"
  }
 },
 "nbformat": 4,
 "nbformat_minor": 2
}
